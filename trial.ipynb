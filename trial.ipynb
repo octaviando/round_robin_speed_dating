{
 "cells": [
  {
   "cell_type": "code",
   "execution_count": null,
   "metadata": {},
   "outputs": [],
   "source": [
    "filename = './Students_list_for_speed_dating.csv'"
   ]
  },
  {
   "cell_type": "code",
   "execution_count": null,
   "metadata": {},
   "outputs": [],
   "source": [
    "def student_round_robin_for_csv(filename_or_path):\n",
    "    \"\"\"\n",
    "    This function takes a csv file and returns a Round-Robin style display for Project Speed Dating.\n",
    "    param: filename_or_path: str: the path to the csv file\n",
    "    return: str: a string with the Round-Robin style display\n",
    "    \"\"\"\n",
    "    student_list = [] # create a list to store student names\n",
    "    with open(filename) as file: # open the file\n",
    "        for line in file:\n",
    "            student_list.append(line.strip())   # add each line to the list\n",
    "    student_list = student_list[1:] # remove the header\n",
    "    student_dict = {} # we create a dictionary to store the student names and their number in the list\n",
    "    for student in student_list: # we iterate over the student list and assign a number to each student\n",
    "        i = student_list.index(student)\n",
    "        student_dict[student] = i+1\n",
    "    \n",
    "    # we create a list of students IDs\n",
    "    students = list(range(1, len(student_list) + 1))\n",
    "\n",
    "    # we initialize a list to hold the rotations\n",
    "    rotations = []\n",
    "\n",
    "    #for each round, we create new pairings list\n",
    "    for round in range(len(student_list) - 1):\n",
    "        pairings = []\n",
    "\n",
    "        # Pair students in a round-robin fashion\n",
    "        for i in range(len(student_list) // 2):\n",
    "            student1 = students[i]\n",
    "            student2 = students[-(i + 1)]\n",
    "            pairings.append((student1, student2))\n",
    "\n",
    "        # if there are an odd number of students, pair the remaining student\n",
    "        if len(student_list) % 2 == 1:\n",
    "            pairings.append((students[len(student_list) // 2], None)) # None indicates no pair\n",
    "\n",
    "        # Append the pairings to the rotations list\n",
    "        rotations.append(pairings)\n",
    "\n",
    "        # Rotate the students, keeping the first student in place\n",
    "        students = [students[0]] + students[-1:] + students[1:-1]\n",
    "    \n",
    "    # Display the rotations format for each round\n",
    "    rotations_display = []\n",
    "    d2 = {v: k for k, v in student_dict.items()}\n",
    "\n",
    "    for i, round in enumerate(rotations, start=1):\n",
    "        round_display = f\"Round {i}: \" + \" | \".join([f\"{ d2.get(student1) } - {'X' if student2 is None else d2.get(student2)}\" for student1, student2 in round])\n",
    "        rotations_display.append(round_display)\n",
    "\n",
    "\n",
    "    # Display the rotations\n",
    "    for round in rotations_display:\n",
    "        print(round)\n",
    "        "
   ]
  },
  {
   "cell_type": "code",
   "execution_count": null,
   "metadata": {},
   "outputs": [],
   "source": [
    "student_round_robin_for_csv(filename)"
   ]
  }
 ],
 "metadata": {
  "kernelspec": {
   "display_name": "base",
   "language": "python",
   "name": "python3"
  },
  "language_info": {
   "codemirror_mode": {
    "name": "ipython",
    "version": 3
   },
   "file_extension": ".py",
   "mimetype": "text/x-python",
   "name": "python",
   "nbconvert_exporter": "python",
   "pygments_lexer": "ipython3",
   "version": "3.12.9"
  }
 },
 "nbformat": 4,
 "nbformat_minor": 2
}
