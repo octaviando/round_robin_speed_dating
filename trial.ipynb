{
 "cells": [
  {
   "cell_type": "code",
   "execution_count": 9,
   "metadata": {},
   "outputs": [],
   "source": [
    "filename = './Students_list_for_speed_dating.csv'"
   ]
  },
  {
   "cell_type": "code",
   "execution_count": 22,
   "metadata": {},
   "outputs": [],
   "source": [
    "def student_round_robin_for_csv(filename_or_path):\n",
    "    \"\"\"\n",
    "    This function takes a csv file and returns a Round-Robin style display for Project Speed Dating.\n",
    "    param: filename_or_path: str: the path to the csv file\n",
    "    return: str: a string with the Round-Robin style display\n",
    "    \"\"\"\n",
    "    student_list = [] # create a list to store student names\n",
    "    with open(filename) as file: # open the file\n",
    "        for line in file:\n",
    "            student_list.append(line.strip())   # add each line to the list\n",
    "    student_list = student_list[1:] # remove the header\n",
    "    student_dict = {} # we create a dictionary to store the student names and their number in the list\n",
    "    for student in student_list: # we iterate over the student list and assign a number to each student\n",
    "        i = student_list.index(student)\n",
    "        student_dict[student] = i+1\n",
    "    \n",
    "    # we create a list of students IDs\n",
    "    students = list(range(1, len(student_list) + 1))\n",
    "\n",
    "    # we initialize a list to hold the rotations\n",
    "    rotations = []\n",
    "\n",
    "    #for each round, we create new pairings list\n",
    "    for round in range(len(student_list) - 1):\n",
    "        pairings = []\n",
    "\n",
    "        # Pair students in a round-robin fashion\n",
    "        for i in range(len(student_list) // 2):\n",
    "            student1 = students[i]\n",
    "            student2 = students[-(i + 1)]\n",
    "            pairings.append((student1, student2))\n",
    "\n",
    "        # if there are an odd number of students, pair the remaining student\n",
    "        if len(student_list) % 2 == 1:\n",
    "            pairings.append((students[len(student_list) // 2], None)) # None indicates no pair\n",
    "\n",
    "        # Append the pairings to the rotations list\n",
    "        rotations.append(pairings)\n",
    "\n",
    "        # Rotate the students, keeping the first student in place\n",
    "        students = [students[0]] + students[-1:] + students[1:-1]\n",
    "    \n",
    "    # Display the rotations format for each round\n",
    "    rotations_display = []\n",
    "    d2 = {v: k for k, v in student_dict.items()}\n",
    "\n",
    "    for i, round in enumerate(rotations, start=1):\n",
    "        round_display = f\"Round {i}: \" + \" | \".join([f\"{ d2.get(student1) } - {'X' if student2 is None else d2.get(student2)}\" for student1, student2 in round])\n",
    "        rotations_display.append(round_display)\n",
    "\n",
    "\n",
    "    # Display the rotations\n",
    "    for round in rotations_display:\n",
    "        print(round)\n",
    "        "
   ]
  },
  {
   "cell_type": "code",
   "execution_count": 23,
   "metadata": {},
   "outputs": [
    {
     "name": "stdout",
     "output_type": "stream",
     "text": [
      "Round 1: Apo - Saeda | Alex - Hassan | Andrea - Huzefa | Askhat - Elena | Ayla - Yan | Bardia - Solmaz | Chizoba - Shih-Chieh | Francesca - Pooneh | Moses - Patrycja | Neringa - X\n",
      "Round 2: Apo - Hassan | Saeda - Huzefa | Alex - Elena | Andrea - Yan | Askhat - Solmaz | Ayla - Shih-Chieh | Bardia - Pooneh | Chizoba - Patrycja | Francesca - Neringa | Moses - X\n",
      "Round 3: Apo - Huzefa | Hassan - Elena | Saeda - Yan | Alex - Solmaz | Andrea - Shih-Chieh | Askhat - Pooneh | Ayla - Patrycja | Bardia - Neringa | Chizoba - Moses | Francesca - X\n",
      "Round 4: Apo - Elena | Huzefa - Yan | Hassan - Solmaz | Saeda - Shih-Chieh | Alex - Pooneh | Andrea - Patrycja | Askhat - Neringa | Ayla - Moses | Bardia - Francesca | Chizoba - X\n",
      "Round 5: Apo - Yan | Elena - Solmaz | Huzefa - Shih-Chieh | Hassan - Pooneh | Saeda - Patrycja | Alex - Neringa | Andrea - Moses | Askhat - Francesca | Ayla - Chizoba | Bardia - X\n",
      "Round 6: Apo - Solmaz | Yan - Shih-Chieh | Elena - Pooneh | Huzefa - Patrycja | Hassan - Neringa | Saeda - Moses | Alex - Francesca | Andrea - Chizoba | Askhat - Bardia | Ayla - X\n",
      "Round 7: Apo - Shih-Chieh | Solmaz - Pooneh | Yan - Patrycja | Elena - Neringa | Huzefa - Moses | Hassan - Francesca | Saeda - Chizoba | Alex - Bardia | Andrea - Ayla | Askhat - X\n",
      "Round 8: Apo - Pooneh | Shih-Chieh - Patrycja | Solmaz - Neringa | Yan - Moses | Elena - Francesca | Huzefa - Chizoba | Hassan - Bardia | Saeda - Ayla | Alex - Askhat | Andrea - X\n",
      "Round 9: Apo - Patrycja | Pooneh - Neringa | Shih-Chieh - Moses | Solmaz - Francesca | Yan - Chizoba | Elena - Bardia | Huzefa - Ayla | Hassan - Askhat | Saeda - Andrea | Alex - X\n",
      "Round 10: Apo - Neringa | Patrycja - Moses | Pooneh - Francesca | Shih-Chieh - Chizoba | Solmaz - Bardia | Yan - Ayla | Elena - Askhat | Huzefa - Andrea | Hassan - Alex | Saeda - X\n",
      "Round 11: Apo - Moses | Neringa - Francesca | Patrycja - Chizoba | Pooneh - Bardia | Shih-Chieh - Ayla | Solmaz - Askhat | Yan - Andrea | Elena - Alex | Huzefa - Saeda | Hassan - X\n",
      "Round 12: Apo - Francesca | Moses - Chizoba | Neringa - Bardia | Patrycja - Ayla | Pooneh - Askhat | Shih-Chieh - Andrea | Solmaz - Alex | Yan - Saeda | Elena - Hassan | Huzefa - X\n",
      "Round 13: Apo - Chizoba | Francesca - Bardia | Moses - Ayla | Neringa - Askhat | Patrycja - Andrea | Pooneh - Alex | Shih-Chieh - Saeda | Solmaz - Hassan | Yan - Huzefa | Elena - X\n",
      "Round 14: Apo - Bardia | Chizoba - Ayla | Francesca - Askhat | Moses - Andrea | Neringa - Alex | Patrycja - Saeda | Pooneh - Hassan | Shih-Chieh - Huzefa | Solmaz - Elena | Yan - X\n",
      "Round 15: Apo - Ayla | Bardia - Askhat | Chizoba - Andrea | Francesca - Alex | Moses - Saeda | Neringa - Hassan | Patrycja - Huzefa | Pooneh - Elena | Shih-Chieh - Yan | Solmaz - X\n",
      "Round 16: Apo - Askhat | Ayla - Andrea | Bardia - Alex | Chizoba - Saeda | Francesca - Hassan | Moses - Huzefa | Neringa - Elena | Patrycja - Yan | Pooneh - Solmaz | Shih-Chieh - X\n",
      "Round 17: Apo - Andrea | Askhat - Alex | Ayla - Saeda | Bardia - Hassan | Chizoba - Huzefa | Francesca - Elena | Moses - Yan | Neringa - Solmaz | Patrycja - Shih-Chieh | Pooneh - X\n",
      "Round 18: Apo - Alex | Andrea - Saeda | Askhat - Hassan | Ayla - Huzefa | Bardia - Elena | Chizoba - Yan | Francesca - Solmaz | Moses - Shih-Chieh | Neringa - Pooneh | Patrycja - X\n"
     ]
    }
   ],
   "source": [
    "student_round_robin_for_csv(filename)"
   ]
  }
 ],
 "metadata": {
  "kernelspec": {
   "display_name": "base",
   "language": "python",
   "name": "python3"
  },
  "language_info": {
   "codemirror_mode": {
    "name": "ipython",
    "version": 3
   },
   "file_extension": ".py",
   "mimetype": "text/x-python",
   "name": "python",
   "nbconvert_exporter": "python",
   "pygments_lexer": "ipython3",
   "version": "3.12.9"
  }
 },
 "nbformat": 4,
 "nbformat_minor": 2
}
